{
 "cells": [
  {
   "cell_type": "code",
   "execution_count": 2,
   "metadata": {},
   "outputs": [],
   "source": [
    "import numpy as np\n",
    "import matplotlib.pyplot as plt\n",
    "from matplotlib import patches\n",
    "from skimage.draw import polygon2mask\n",
    "from scipy import ndimage\n",
    "from PIL import Image\n",
    "from src.preprocessing import process_image, process_video\n",
    "from skimage.color import label2rgb\n",
    "from skimage.morphology import label\n",
    "from IPython.display import display, clear_output\n",
    "from skimage.measure import regionprops"
   ]
  },
  {
   "cell_type": "code",
   "execution_count": 3,
   "metadata": {},
   "outputs": [
    {
     "ename": "KeyboardInterrupt",
     "evalue": "",
     "output_type": "error",
     "traceback": [
      "\u001b[1;31m---------------------------------------------------------------------------\u001b[0m",
      "\u001b[1;31mKeyboardInterrupt\u001b[0m                         Traceback (most recent call last)",
      "Cell \u001b[1;32mIn[3], line 1\u001b[0m\n\u001b[1;32m----> 1\u001b[0m label_video \u001b[39m=\u001b[39m process_video(\u001b[39m'\u001b[39;49m\u001b[39mimages/cheese_gel.avi\u001b[39;49m\u001b[39m'\u001b[39;49m, threshold\u001b[39m=\u001b[39;49m\u001b[39m0.3\u001b[39;49m, skip_size\u001b[39m=\u001b[39;49m\u001b[39m8\u001b[39;49m)\n",
      "File \u001b[1;32mc:\\Users\\asken\\Documents\\UCPH\\Bachelor\\QIM\\src\\preprocessing.py:99\u001b[0m, in \u001b[0;36mprocess_video\u001b[1;34m(path, threshold, skip_size)\u001b[0m\n\u001b[0;32m     96\u001b[0m frame_count \u001b[39m=\u001b[39m \u001b[39m0\u001b[39m\n\u001b[0;32m     98\u001b[0m \u001b[39mwhile\u001b[39;00m \u001b[39mTrue\u001b[39;00m:\n\u001b[1;32m---> 99\u001b[0m     ret, frame \u001b[39m=\u001b[39m video\u001b[39m.\u001b[39;49mread()\n\u001b[0;32m    100\u001b[0m     \u001b[39mif\u001b[39;00m \u001b[39mnot\u001b[39;00m ret:\n\u001b[0;32m    101\u001b[0m         \u001b[39mbreak\u001b[39;00m\n",
      "\u001b[1;31mKeyboardInterrupt\u001b[0m: "
     ]
    }
   ],
   "source": [
    "label_video = process_video('images/cheese_gel.avi', threshold=0.3, skip_size=8)"
   ]
  },
  {
   "cell_type": "code",
   "execution_count": null,
   "metadata": {},
   "outputs": [
    {
     "ename": "NameError",
     "evalue": "name 'plt' is not defined",
     "output_type": "error",
     "traceback": [
      "\u001b[1;31m---------------------------------------------------------------------------\u001b[0m",
      "\u001b[1;31mNameError\u001b[0m                                 Traceback (most recent call last)",
      "Cell \u001b[1;32mIn[1], line 1\u001b[0m\n\u001b[1;32m----> 1\u001b[0m fig, ax \u001b[39m=\u001b[39m plt\u001b[39m.\u001b[39msubplots(\u001b[39m1\u001b[39m,\u001b[39m4\u001b[39m, figsize\u001b[39m=\u001b[39m(\u001b[39m14\u001b[39m,\u001b[39m6\u001b[39m), gridspec_kw\u001b[39m=\u001b[39m{\u001b[39m'\u001b[39m\u001b[39mwidth_ratios\u001b[39m\u001b[39m'\u001b[39m: [\u001b[39m1\u001b[39m, \u001b[39m1\u001b[39m, \u001b[39m1\u001b[39m, \u001b[39m2\u001b[39m]})\n\u001b[0;32m      2\u001b[0m fig\u001b[39m.\u001b[39msubplots_adjust(wspace\u001b[39m=\u001b[39m\u001b[39m0.4\u001b[39m)\n\u001b[0;32m      3\u001b[0m plt\u001b[39m.\u001b[39mtight_layout()\n",
      "\u001b[1;31mNameError\u001b[0m: name 'plt' is not defined"
     ]
    }
   ],
   "source": [
    "fig, ax = plt.subplots(1,4, figsize=(14,6), gridspec_kw={'width_ratios': [1, 1, 1, 2]})\n",
    "fig.subplots_adjust(wspace=0.4)\n",
    "plt.tight_layout()\n",
    "\n",
    "for label_image in label_video:\n",
    "\n",
    "    label_image = label_image[300:700, 300:700]\n",
    "\n",
    "    L = 100 # Maximum distances to consider\n",
    "    M = label_image.shape[0] - L\n",
    "\n",
    "    label_image_bounded = np.zeros(label_image.shape, dtype=int)\n",
    "    cluster_num = 1\n",
    "    for region in regionprops(label_image):\n",
    "        minr, minc, maxr, maxc = region.bbox\n",
    "        if (minr > L+1) and (minc > L+1) and (maxr < M-1) and (maxc < M-1):\n",
    "            pixel_coordinates = region.coords\n",
    "            label_image_bounded[pixel_coordinates[:,0],  pixel_coordinates[:,1]] =  cluster_num\n",
    "            cluster_num += 1\n",
    "\n",
    "    print(cluster_num)\n",
    "\n",
    "    bx = (L, M, M, L, L)\n",
    "    by = (L, L, M, M, L)\n",
    "    ax[3].plot(bx, by, '-r')\n",
    "    ax[3].imshow(label2rgb(label_image, bg_label=0))\n",
    "    curr_image = label_image_bounded\n",
    "\n",
    "    F = np.zeros(L+1)\n",
    "    G = np.zeros(L+1)\n",
    "    for cluster in range(1, curr_image.max()+1):\n",
    "        ref_cluster = curr_image == cluster\n",
    "        rem_clusters = label_image * np.invert(ref_cluster)\n",
    "        \n",
    "        D = ndimage.distance_transform_edt(ref_cluster==0)\n",
    "        f = np.zeros(L+1)\n",
    "        g = np.zeros(L+1)\n",
    "        for i in range(0,L+1):\n",
    "            K = D <= i\n",
    "            f[i] = np.count_nonzero(K*rem_clusters)\n",
    "            g[i] = np.count_nonzero(K)\n",
    "            \n",
    "        F += f\n",
    "        G += g \n",
    "\n",
    "    F = F / curr_image.max()\n",
    "    G = G / curr_image.max()\n",
    "\n",
    "    ax[0].plot(F, 'r')\n",
    "    ax[0].set_xlabel('r')\n",
    "    ax[0].set_ylabel('area overlap')\n",
    "\n",
    "    ax[1].plot(F/G, 'b')\n",
    "    ax[1].set_xlabel('r')\n",
    "    ax[1].set_ylabel('fractional area overlap')\n",
    "\n",
    "    ax[2].plot(F[1:]-F[:-1], 'g')\n",
    "    ax[2].set_xlabel('r')\n",
    "    ax[2].set_ylabel('curve overlap')\n",
    "    clear_output(wait = True)\n",
    "    display(fig)\n",
    "plt.show()"
   ]
  }
 ],
 "metadata": {
  "kernelspec": {
   "display_name": "Python 3",
   "language": "python",
   "name": "python3"
  },
  "language_info": {
   "codemirror_mode": {
    "name": "ipython",
    "version": 3
   },
   "file_extension": ".py",
   "mimetype": "text/x-python",
   "name": "python",
   "nbconvert_exporter": "python",
   "pygments_lexer": "ipython3",
   "version": "3.11.1"
  },
  "orig_nbformat": 4
 },
 "nbformat": 4,
 "nbformat_minor": 2
}
