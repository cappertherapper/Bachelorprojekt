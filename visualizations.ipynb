{
 "cells": [
  {
   "cell_type": "code",
   "execution_count": 8,
   "metadata": {},
   "outputs": [],
   "source": [
    "from src.distance_measures import analyse_video, analyse_image\n",
    "from src.gaussian_noise import generate_noise_array, generate_noise\n",
    "from src.preprocessing import process_image, process_video, get_video, preprocess\n",
    "from src.gradient_descent import find_default_params\n",
    "from src.visualizer import visualize\n",
    "import numpy as np\n",
    "from matplotlib import cm\n",
    "import matplotlib.pyplot as plt\n",
    "from skimage.color import label2rgb\n",
    "from skimage.morphology import label\n",
    "from tqdm import tqdm\n",
    "plt.rcParams['image.cmap'] = 'gray'"
   ]
  },
  {
   "attachments": {},
   "cell_type": "markdown",
   "metadata": {},
   "source": [
    "# Import values"
   ]
  },
  {
   "cell_type": "code",
   "execution_count": 3,
   "metadata": {},
   "outputs": [],
   "source": [
    "path = 'images/cheese_gel.avi'"
   ]
  },
  {
   "cell_type": "code",
   "execution_count": null,
   "metadata": {},
   "outputs": [],
   "source": [
    "# Parameters\n",
    "# params = np.genfromtxt('parameters.csv', delimiter=\",\")\n",
    "\n",
    "# Loss\n",
    "# loss_all = np.genfromtxt('loss.csv', delimiter=\",\")"
   ]
  },
  {
   "attachments": {},
   "cell_type": "markdown",
   "metadata": {},
   "source": [
    "# Visualizations"
   ]
  },
  {
   "attachments": {},
   "cell_type": "markdown",
   "metadata": {},
   "source": [
    "## Pixel distributions"
   ]
  },
  {
   "cell_type": "code",
   "execution_count": null,
   "metadata": {},
   "outputs": [],
   "source": [
    "# path = 'images/cheese_gel.avi'\n",
    "\n",
    "# im = process_video(path, threshold=0.17, smooth=2.62, skip_size=24)\n",
    "# # shortening the video\n",
    "# # im = im[]\n",
    "\n",
    "# rows1 = np.flip(np.count_nonzero(im[0], axis=1))\n",
    "# cols1 = np.count_nonzero(im[0], axis=0)\n",
    "\n",
    "# rows2 = np.flip(np.count_nonzero(im[-1], axis=1))\n",
    "# cols2 = np.count_nonzero(im[-1], axis=0)\n",
    "\n",
    "# X_rows = np.arange(len(rows2))\n",
    "\n",
    "# fig, ax = plt.subplots(1,2,figsize=(10,5))\n",
    "\n",
    "# ax[0].set_title('Number of non-zero pixels by row')\n",
    "# ax[0].barh(X_rows, rows2, color='steelblue')\n",
    "# ax[0].set_xlabel(\"Number of elements in row\")\n",
    "# ax[0].set_ylabel('Row #')\n",
    "\n",
    "# X_cols = np.arange(len(cols2))\n",
    "# ax[1].set_title('Number of non-zero pixels by column')\n",
    "# ax[1].bar(X_cols, cols2, color='steelblue')\n",
    "# ax[1].set_ylabel(\"Number of elements in column\")\n",
    "# ax[1].set_xlabel('Column #')\n",
    "\n",
    "# plt.tight_layout()\n",
    "# # plt.savefig(\"distributions.png\", dpi=1100)\n",
    "# plt.show()"
   ]
  },
  {
   "cell_type": "code",
   "execution_count": null,
   "metadata": {},
   "outputs": [],
   "source": [
    "# fig, ax = plt.subplots(1,3, figsize=(15,5))\n",
    "\n",
    "# ax[0].imshow(im[0] > 0)\n",
    "# ax[0].set_title('Frame #0')\n",
    "# ax[1].imshow(im[3] > 0)\n",
    "# ax[1].set_title('Frame #72')\n",
    "# ax[2].imshow(im[7] > 0)\n",
    "# ax[2].set_title('Frame #144')"
   ]
  },
  {
   "attachments": {},
   "cell_type": "markdown",
   "metadata": {},
   "source": [
    "## Difference in threshold on shape relation measures"
   ]
  },
  {
   "cell_type": "code",
   "execution_count": null,
   "metadata": {},
   "outputs": [],
   "source": [
    "# im = get_video(path, skip_size=239)[1]\n",
    "# im = im[300:700,300:700]\n",
    "\n",
    "# t1, t2, t3 = 0.2, 0.3, 0.4\n",
    "# smooth = 1\n",
    "\n",
    "# im_low = preprocess(im, threshold=t1)\n",
    "# im_mid = preprocess(im, threshold=t2)\n",
    "# im_high = preprocess(im, threshold=t3)\n",
    "\n",
    "# fig, ax = plt.subplots(1,3, figsize=(15,5))\n",
    "# ax[0].imshow(label2rgb(im_low, image=im, bg_label=0))\n",
    "# ax[1].imshow(label2rgb(im_mid, image=im, bg_label=0))\n",
    "# ax[2].imshow(label2rgb(im_high, image=im, bg_label=0))\n",
    "\n",
    "# # ax[0].imshow(label2rgb(im_low))\n",
    "# # ax[1].imshow(label2rgb(im_mid))\n",
    "# # ax[2].imshow(label2rgb(im_high))\n",
    "\n",
    "\n",
    "# ax[0].set_title(r'Clusters found with $\\tau = 0.2$')\n",
    "# ax[1].set_title(r'Clusters found with $\\tau = 0.3$')\n",
    "# ax[2].set_title(r'Clusters found with $\\tau = 0.4$')\n",
    "\n",
    "# plt.tight_layout()\n",
    "# plt.show()"
   ]
  },
  {
   "cell_type": "code",
   "execution_count": null,
   "metadata": {},
   "outputs": [],
   "source": [
    "# F1, G1 = analyse_image(im_low, L=50)\n",
    "# F2, G2 = analyse_image(im_mid, L=50)\n",
    "# F3, G3 = analyse_image(im_high, L=50)\n",
    "# # F1 = np.linalg.norm(F1)\n",
    "# # F2 = np.linalg.norm(F2)\n",
    "# # F3 = np.linalg.norm(F3)\n",
    "# # G1 = np.linalg.norm(G1)\n",
    "# # G2 = np.linalg.norm(G2)\n",
    "# # G3 = np.linalg.norm(G2)\n",
    "# # print(F1.shape)\n",
    "# F_list, G_list = [F1, F2, F3], [G1, G2, G3]\n",
    "# # F_list, G_list = np.linalg.norm(F_list, axis=1), np.linalg.norm(G_list, axis=1)\n",
    "\n",
    "# # print(F_list.shape)\n",
    "# fig, ax = plt.subplots(1,3, figsize=(9,6))\n",
    "\n",
    "# colors = ['steelblue', 'firebrick', 'olivedrab']\n",
    "# labels = [r'$\\tau = 0.2$', r'$\\tau = 0.3$', r'$\\tau = 0.4$']\n",
    "\n",
    "# for i in range(len(F_list)):\n",
    "#     ax[0].plot(F_list[i], color=colors[i], label=labels[i])\n",
    "#     ax[0].set_xlabel('r')\n",
    "#     ax[0].set_ylabel('area overlap')\n",
    "#     ax[0].set_title('Area overlap')\n",
    "#     ax[1].plot(F_list[i]/G_list[i], color=colors[i])\n",
    "#     ax[1].set_xlabel('r')\n",
    "#     ax[1].set_ylabel('fractional area overlap')\n",
    "#     ax[1].set_title('Fractional area overlap')\n",
    "#     ax[2].plot((F_list[i])[1:]-(F_list[i])[:-1], color=colors[i])\n",
    "#     ax[2].set_xlabel('r')\n",
    "#     ax[2].set_ylabel('curve overlap')\n",
    "#     ax[2].set_title('Curve overlap')\n",
    "\n",
    "# ax[0].legend()\n",
    "# plt.tight_layout()\n",
    "# plt.show()"
   ]
  },
  {
   "attachments": {},
   "cell_type": "markdown",
   "metadata": {},
   "source": [
    "## Protein distributions"
   ]
  },
  {
   "cell_type": "code",
   "execution_count": null,
   "metadata": {},
   "outputs": [],
   "source": [
    "# vid = get_video(path, 24)\n",
    "\n",
    "# fig, ax = plt.subplots(1,3, figsize=(15,5))\n",
    "# ax[0].imshow(vid[0])\n",
    "# ax[1].imshow(vid[3])\n",
    "# ax[2].imshow(vid[-1])\n",
    "\n",
    "\n",
    "# ax[0].set_title('Frame #0')\n",
    "# ax[1].set_title('Frame #72')\n",
    "# ax[2].set_title('Frame #144')\n",
    "\n",
    "# plt.tight_layout()\n",
    "# plt.show()"
   ]
  },
  {
   "cell_type": "code",
   "execution_count": null,
   "metadata": {},
   "outputs": [],
   "source": [
    "# fig, ax = plt.subplots(1,2, figsize=(10,5))\n",
    "\n",
    "# X = np.arange(len(vid[-1]))\n",
    "\n",
    "# ax[0].set_title('Sum of pixels by row')\n",
    "# ax[0].set_ylabel('Row #')\n",
    "# ax[0].set_xlabel('Sum of elements in row')\n",
    "# ax[0].barh(X, np.flip(np.sum(vid[-1], axis=1)))\n",
    "\n",
    "# ax[1].set_title('Sum of pixels by column')\n",
    "# ax[1].set_ylabel('Sum of elements in column')\n",
    "# ax[1].set_xlabel('Column #')\n",
    "# ax[1].bar(X, np.sum(vid[-1], axis=0))\n",
    "\n",
    "# plt.tight_layout()\n",
    "# plt.show()"
   ]
  },
  {
   "attachments": {},
   "cell_type": "markdown",
   "metadata": {},
   "source": [
    "## Front image"
   ]
  },
  {
   "cell_type": "code",
   "execution_count": null,
   "metadata": {},
   "outputs": [],
   "source": [
    "background = get_video(path, skip_size=239)[1]\n",
    "im = process_video(path, 0.3, 1, 239)[1]\n",
    "\n",
    "\n",
    "plt.imshow(label2rgb(im, background, bg_label=0))\n",
    "plt.axis('off')\n",
    "\n",
    "plt.tight_layout()\n",
    "plt.show()"
   ]
  },
  {
   "attachments": {},
   "cell_type": "markdown",
   "metadata": {},
   "source": [
    "## Comparing observations"
   ]
  },
  {
   "cell_type": "code",
   "execution_count": null,
   "metadata": {},
   "outputs": [],
   "source": [
    "# size=400\n",
    "# amount=3\n",
    "# vid = process_video(path, 0.3, 1, size=size, skip_size=24)\n",
    "# vid = vid[:7]\n",
    "\n",
    "# synth0 = generate_noise_array(size=size, threshold=0.25, smooth=2.50, amount=amount)\n",
    "# synth1 = generate_noise_array(size=size, threshold=0.18, smooth=2.52, amount=amount)\n",
    "# synth2 = generate_noise_array(size=size, threshold=0.16, smooth=2.62, amount=amount)"
   ]
  },
  {
   "cell_type": "code",
   "execution_count": null,
   "metadata": {},
   "outputs": [],
   "source": [
    "# real = [vid[0], vid[3], vid[-1]]\n",
    "# fake = [synth0, synth1, synth2]\n",
    "# framenr = [0, 72, 144]\n",
    "\n",
    "# L = 50\n",
    "# X = np.arange(L+1)\n",
    "# # ['steelblue', 'firebrick', 'olivedrab']\n",
    "# fig, ax = plt.subplots(1,3, figsize=(15,5))\n",
    "\n",
    "# for i in range(3):\n",
    "#     F1, G1 = analyse_image(real[i], L=L)\n",
    "#     F2, G2 = analyse_video(fake[i], L=L)\n",
    "#     F2, G2 = np.mean(F2, axis=0), np.mean(G2, axis=0)\n",
    "\n",
    "#     if i == 2:\n",
    "#         ax[i].plot(X, F1/G1, color='steelblue', label='observations')\n",
    "#         ax[i].plot(X, F2/G2, color='firebrick', label='synthesized')\n",
    "#         ax[i].legend()\n",
    "#     else:\n",
    "#         ax[i].plot(X, F1/G1, color='steelblue')\n",
    "#         ax[i].plot(X, F2/G2, color='firebrick')\n",
    "#     ax[i].set_title('F/G of frame #{}'.format(framenr[i]))\n",
    "#     ax[i].set_xlabel('r')\n",
    "#     ax[i].set_ylabel('fractional area')\n",
    "\n",
    "\n",
    "# plt.tight_layout()\n",
    "# plt.show()"
   ]
  },
  {
   "attachments": {},
   "cell_type": "markdown",
   "metadata": {},
   "source": [
    "## Alpha tau relationships"
   ]
  },
  {
   "attachments": {},
   "cell_type": "markdown",
   "metadata": {},
   "source": [
    "### 4-step process to generate synthetic data"
   ]
  },
  {
   "cell_type": "code",
   "execution_count": null,
   "metadata": {},
   "outputs": [],
   "source": [
    "plt.rcParams['image.cmap'] = 'gray'\n",
    "\n",
    "# fig, ax = plt.subplots(1,4, figsize=(20,15))\n",
    "\n",
    "# im = np.random.normal(size=(200, 200))\n",
    "\n",
    "# noise1 = im\n",
    "# noise2 = filters.gaussian(im, 2)\n",
    "# noise3 = filters.gaussian(im, 1) > (0.1)\n",
    "# noise4 = label(filters.gaussian(im, 3) > (0.1))\n",
    "\n",
    "# ax[0].set_title(r'1. Normal distributed noise, X $\\sim \\mathcal{N}(0,1)$')\n",
    "# ax[0].imshow((noise1))\n",
    "# ax[1].set_title(r'Gaussian smoothing applied, $\\alpha = 2$')\n",
    "# ax[1].imshow((noise2))\n",
    "# ax[2].set_title(r'Thresholding, $\\tau = 0.1$ applied')\n",
    "# ax[2].imshow((noise3))\n",
    "# ax[3].set_title(r'Labeling applied')\n",
    "# ax[3].imshow(label2rgb(noise3))"
   ]
  },
  {
   "attachments": {},
   "cell_type": "markdown",
   "metadata": {},
   "source": [
    "### Varying smoothing parameter while keeping threshold constant"
   ]
  },
  {
   "cell_type": "code",
   "execution_count": null,
   "metadata": {},
   "outputs": [],
   "source": [
    "# fig, ax = plt.subplots(1,3, figsize=(15,10))\n",
    "\n",
    "# im = np.random.normal(size=(200, 200))\n",
    "\n",
    "# noise1 = label(filters.gaussian(im, 1) > (0.1))\n",
    "# noise2 = label(filters.gaussian(im, 2) > (0.1))\n",
    "# noise3 = label(filters.gaussian(im, 3) > (0.1))\n",
    "\n",
    "# ax[0].set_title(r'$\\alpha$ = 1   -   $\\tau$ = 0.1')\n",
    "# ax[0].imshow(label2rgb(noise1))\n",
    "# ax[1].set_title(r'$\\alpha$ = 2   -   $\\tau$ = 0.1')\n",
    "# ax[1].imshow(label2rgb(noise2))\n",
    "# ax[2].set_title(r'$\\alpha$ = 3   -   $\\tau$ = 0.1')\n",
    "# ax[2].imshow(label2rgb(noise3))\n",
    "\n",
    "# fig1,ax1 = plt.subplots(1,2,figsize=(10,5))\n",
    "# means_gaus = np.zeros(3)\n",
    "# amounts_gaus = np.zeros(3)\n",
    "# gauss = [noise1, noise2, noise3]\n",
    "# for i in range(3):\n",
    "#     gaus_regions = regionprops(gauss[i])\n",
    "#     for gaus_region in gaus_regions:\n",
    "#         means_gaus[i] = means_gaus[i] + gaus_region.area\n",
    "#     means_gaus[i] = means_gaus[i] / len(gaus_regions)\n",
    "#     amounts_gaus[i] = len(gaus_regions)\n",
    "\n",
    "# X = ['Alpha = 1','Alpha = 2','Alpha = 3']\n",
    "# X_axis = np.arange(len(X))\n",
    "# ax1[0].bar(X_axis, means_gaus, 0.5, color='firebrick')\n",
    "# ax1[0].set_xticks(X_axis, X)\n",
    "# ax1[0].set_ylabel(\"Mean protein size of frame\")\n",
    "# ax1[0].set_title(\"Distribution of mean cluster sizes\")\n",
    "\n",
    "# ax1[1].bar(X_axis, amounts_gaus, 0.5, color='steelblue')\n",
    "# ax1[1].set_xticks(X_axis, X)\n",
    "# ax1[1].set_ylabel(\"Amount of clusters in frame\")\n",
    "# ax1[1].set_title(\"Amounts of clusters larger than threshold\")\n",
    "\n",
    "# plt.tight_layout()\n",
    "# plt.show()"
   ]
  },
  {
   "attachments": {},
   "cell_type": "markdown",
   "metadata": {},
   "source": [
    "### Interrelation of smoothing parameter and thresholding"
   ]
  },
  {
   "cell_type": "code",
   "execution_count": null,
   "metadata": {},
   "outputs": [],
   "source": [
    "# fig, ax = plt.subplots(1,3, figsize=(12,5))\n",
    "\n",
    "# ax[0].set_title(r'$\\alpha$ = 1   -   $64^{th}$ percentile')\n",
    "# ax[0].hist(filters.gaussian(im,1).flatten(),100)\n",
    "# ax[0].plot([0.1, 0.1], [0, 2000], 'r-')\n",
    "\n",
    "# ax[0].set_xlim(-1,1)\n",
    "# ax[0].set_ylim(0,2000)\n",
    "\n",
    "# ax[1].set_title(r'$\\alpha$ = 2   -   $76^{th}$ percentile')\n",
    "# ax[1].hist(filters.gaussian(im,2).flatten(),100)\n",
    "# ax[1].plot([0.1, 0.1], [0, 2000], 'r-')\n",
    "# ax[1].set_xlim(-1,1)\n",
    "# ax[1].set_ylim(0,2000)\n",
    "\n",
    "# ax[2].set_title(r'$\\alpha$ = 3   -   $85^{th}$ percentile')\n",
    "# ax[2].hist(filters.gaussian(im,3).flatten(),100)\n",
    "# ax[2].plot([0.1, 0.1], [0, 2000], 'r-')\n",
    "# ax[2].set_xlim(-1,1)\n",
    "# ax[2].set_ylim(0,2000)\n",
    "\n",
    "# plt.tight_layout()\n",
    "# plt.show()"
   ]
  },
  {
   "cell_type": "code",
   "execution_count": null,
   "metadata": {},
   "outputs": [],
   "source": [
    "# def generate_poly(siz=800, percentile=80, degree=4):\n",
    "#     im = np.random.normal(size=(siz, siz))\n",
    "#     conf_interval_lower=[]\n",
    "\n",
    "#     for i in np.linspace(1,3,30):\n",
    "#         imFilt = filters.gaussian(im, i)\n",
    "#         conf_interval_lower.append(np.percentile(imFilt,(percentile)))\n",
    "\n",
    "#     x=np.linspace(1,3,30)\n",
    "#     y_lower=conf_interval_lower\n",
    "#     coefficients_lower = np.polyfit(x, y_lower, degree)\n",
    "#     polynomial_lower = np.poly1d(coefficients_lower)\n",
    "\n",
    "#     return polynomial_lower"
   ]
  },
  {
   "cell_type": "code",
   "execution_count": null,
   "metadata": {},
   "outputs": [],
   "source": [
    "# polyFun = generate_poly(percentile=80)\n",
    "\n",
    "# fig, ax = plt.subplots(1,3, figsize=(15,10))\n",
    "\n",
    "# im = np.random.normal(size=(400, 400))\n",
    "\n",
    "# noise1 = label(filters.gaussian(im, 1) > polyFun(1))\n",
    "# noise2 = label(filters.gaussian(im, 2) > polyFun(2))\n",
    "# noise3 = label(filters.gaussian(im, 3) > polyFun(3))\n",
    "\n",
    "# print(polyFun(1),polyFun(2),polyFun(3))\n",
    "\n",
    "# ax[0].set_title(r'$\\alpha$ = 1   -   $\\tau$ = {0}'.format(round(polyFun(1),3)))\n",
    "# ax[0].imshow(label2rgb(noise1))\n",
    "# ax[1].set_title(r'$\\alpha$ = 2   -   $\\tau$ = {0}'.format(round(polyFun(2),3)))\n",
    "# ax[1].imshow(label2rgb(noise2))\n",
    "# ax[2].set_title(r'$\\alpha$ = 3   -   $\\tau$ = {0}'.format(round(polyFun(3),3)))\n",
    "# ax[2].imshow(label2rgb(noise3))\n",
    "\n",
    "# fig1,ax1 = plt.subplots(1,2,figsize=(10,5))\n",
    "# means_gaus = np.zeros(3)\n",
    "# amounts_gaus = np.zeros(3)\n",
    "# gauss = [noise1, noise2, noise3]\n",
    "# for i in range(3):\n",
    "#     gaus_regions = regionprops(gauss[i])\n",
    "#     for gaus_region in gaus_regions:\n",
    "#         means_gaus[i] = means_gaus[i] + gaus_region.area\n",
    "#     means_gaus[i] = means_gaus[i] / len(gaus_regions)\n",
    "#     amounts_gaus[i] = len(gaus_regions)\n",
    "\n",
    "# X = ['Alpha = 1','Alpha = 2','Alpha = 3']\n",
    "# X_axis = np.arange(len(X))\n",
    "# ax1[0].bar(X_axis, means_gaus, 0.5, color='firebrick')\n",
    "# ax1[0].set_xticks(X_axis, X)\n",
    "# ax1[0].set_ylabel(\"Mean protein size of frame\")\n",
    "# ax1[0].set_title(\"Distribution of mean cluster sizes\")\n",
    "\n",
    "# ax1[1].bar(X_axis, amounts_gaus, 0.5, color='steelblue')\n",
    "# ax1[1].set_xticks(X_axis, X)\n",
    "# ax1[1].set_ylabel(\"Amount of clusters in frame\")\n",
    "# ax1[1].set_title(\"Amounts of clusters larger than threshold\")\n",
    "\n",
    "\n",
    "# plt.tight_layout()\n",
    "# plt.show()"
   ]
  },
  {
   "cell_type": "code",
   "execution_count": null,
   "metadata": {},
   "outputs": [],
   "source": [
    "# import cv2\n",
    "# import numpy as np\n",
    "\n",
    "# im = np.random.normal(size=(400, 400))\n",
    "\n",
    "# noise3 = label(filters.gaussian(im, 3) > polyFun(3))\n",
    "\n",
    "# labels=noise3\n",
    "# output_image = np.zeros_like(noise3)\n",
    "\n",
    "# for j,label_ in enumerate(range(1, labels.max())):\n",
    "#     cluster = np.where(labels == label_, 1, 0).astype(np.uint8)\n",
    "#     M = cv2.moments(cluster)\n",
    "#     cX = int(M[\"m10\"] / M[\"m00\"])\n",
    "#     cY = int(M[\"m01\"] / M[\"m00\"])\n",
    "#     mask = np.zeros_like(noise3)\n",
    "\n",
    "#     if (j%4==0):\n",
    "#         k=2\n",
    "#     else:\n",
    "#         k=1\n",
    "#     r = int(np.sqrt(np.count_nonzero(cluster))/2)+k\n",
    "#     cv2.circle(mask, (cX, cY), r, label_, -1)\n",
    "\n",
    "#     output_image = np.where(mask == label_, label_, output_image)"
   ]
  },
  {
   "cell_type": "code",
   "execution_count": null,
   "metadata": {},
   "outputs": [],
   "source": [
    "# n1_F, n1_G = analyse_image(noise1, L=150)\n",
    "# n3_F, n3_G = analyse_image(noise3, L=150)\n",
    "\n",
    "# visualize_([noise1,noise3], [n1_F,n3_F],[n1_G,n3_G])"
   ]
  },
  {
   "cell_type": "code",
   "execution_count": null,
   "metadata": {},
   "outputs": [],
   "source": [
    "# n1_F, n1_G = analyse_image(output_image, L=150)\n",
    "# n3_F, n3_G = analyse_image(noise3, L=150)\n",
    "# visualize_([output_image,noise3], [n1_F,n3_F],[n1_G,n3_G])"
   ]
  },
  {
   "attachments": {},
   "cell_type": "markdown",
   "metadata": {},
   "source": [
    "## Vertical gaussians"
   ]
  },
  {
   "cell_type": "code",
   "execution_count": null,
   "metadata": {},
   "outputs": [],
   "source": [
    "# def draw_gaussian_at(support, sd=1.0, height=1.0, \n",
    "#         xpos=0.0, ypos=0.0, ax=None, **kwargs):\n",
    "#     if ax is None:\n",
    "#         ax = plt.gca()\n",
    "#     gaussian = np.exp((-support ** 2.0) / (2 * sd ** 2.0))\n",
    "#     gaussian /= gaussian.max()\n",
    "#     gaussian *= height\n",
    "#     return ax.plot(gaussian + xpos, support + ypos, **kwargs)"
   ]
  },
  {
   "cell_type": "code",
   "execution_count": null,
   "metadata": {},
   "outputs": [],
   "source": [
    "# X = np.arange(1,20)\n",
    "# F = np.log(X)\n",
    "# Y = np.random.normal(F, 0.2)"
   ]
  },
  {
   "cell_type": "code",
   "execution_count": null,
   "metadata": {},
   "outputs": [],
   "source": [
    "# plt.plot(X, F, color='firebrick', label=r'$f_{\\alpha,\\tau}(r)$')\n",
    "# plt.plot(X, Y, color='steelblue', label=r'$y$')\n",
    "# plt.fill_between(X, Y, F, color='gainsboro')\n",
    "\n",
    "# for x,y in zip(X[8:13:2], F[8:13:2]):\n",
    "#     draw_gaussian_at(np.linspace(-0.3, 0.3, 50), sd=0.1, height=1, xpos=x-1, ypos=y, color='black')\n",
    "#     if x == 9:\n",
    "#         plt.plot(np.linspace(x-1, x-1, 50), np.linspace(y+-0.4, y+0.4, 50), color='black', label='error')\n",
    "#     else:\n",
    "#         plt.plot(np.linspace(x-1, x-1, 50), np.linspace(y+-0.4, y+0.4, 50), color='black')\n",
    "\n",
    "# plt.xticks([])\n",
    "# plt.yticks([])\n",
    "# plt.title('Fitting fractional overlap models')\n",
    "# plt.xlabel('r')\n",
    "# plt.ylabel('fractional area overlap')\n",
    "# plt.tight_layout()\n",
    "# plt.legend()\n",
    "# plt.show()"
   ]
  },
  {
   "attachments": {},
   "cell_type": "markdown",
   "metadata": {},
   "source": [
    "## Variance"
   ]
  },
  {
   "cell_type": "code",
   "execution_count": null,
   "metadata": {},
   "outputs": [],
   "source": [
    "# size = 400\n",
    "# L = 50\n",
    "# noise_list = generate_noise_array(size, amount=1000, threshold=0.2, smooth=2.6)\n",
    "# noiseF_list, noiseG_list = analyse_video(noise_list, L)\n",
    "# noiseF = np.mean(noiseF_list, axis=0)\n",
    "# noiseG = np.mean(noiseG_list, axis=0)"
   ]
  },
  {
   "cell_type": "code",
   "execution_count": null,
   "metadata": {},
   "outputs": [],
   "source": [
    "# def calculate_variance(n):\n",
    "#     mean_curve = noiseF/noiseG\n",
    "    \n",
    "#     varcurve = np.zeros(L+1)\n",
    "\n",
    "#     for i in range(int(len(noiseF_list)/n)):\n",
    "#         noiseF3 = np.mean(noiseF_list[i*n:(i+1)*n], axis=0)\n",
    "#         noiseG3 = np.mean(noiseG_list[i*n:(i+1)*n], axis=0)\n",
    "#         curve = noiseF3/noiseG3\n",
    "#         varcurve += (curve - mean_curve)**2\n",
    "        \n",
    "#     varcurve = varcurve/(len(noiseF_list)/n-1)\n",
    "\n",
    "#     return np.sum(varcurve)/(L+1)\n",
    "\n",
    "# def visualize_distribution(n):\n",
    "#     mean_curve = noiseF/noiseG\n",
    "    \n",
    "\n",
    "#     for i in range(100):\n",
    "#         noiseF3 = np.mean(noiseF_list[i*n:(i+1)*n], axis=0)\n",
    "#         noiseG3 = np.mean(noiseG_list[i*n:(i+1)*n], axis=0)\n",
    "#         curve = noiseF3/noiseG3\n",
    "#         plt.plot(curve, color = 'b', alpha=0.4, linewidth=1)\n",
    "        \n",
    "        \n",
    "#     plt.plot(mean_curve, color = 'r', linewidth=3)\n",
    "#     plt.xlabel('r')\n",
    "#     plt.ylabel('fractional area overlap')\n",
    "#     plt.show()\n",
    "\n",
    "#     plt.show()"
   ]
  },
  {
   "cell_type": "code",
   "execution_count": null,
   "metadata": {},
   "outputs": [],
   "source": [
    "# visualize_distribution(10)"
   ]
  },
  {
   "attachments": {},
   "cell_type": "markdown",
   "metadata": {},
   "source": [
    "## Labelling"
   ]
  },
  {
   "cell_type": "code",
   "execution_count": 10,
   "metadata": {},
   "outputs": [
    {
     "data": {
      "image/png": "[encoded data removed]",
      "text/plain": [
       "<Figure size 640x480 with 1 Axes>"
      ]
     },
     "metadata": {},
     "output_type": "display_data"
    }
   ],
   "source": [
    "# im = process_video(path, 0.16369889996315873, 2.62037301239601, skip_size=239, size=400)[1]\n",
    "\n",
    "# plt.imshow(label2rgb(im))\n",
    "# plt.tight_layout()\n",
    "# plt.show()"
   ]
  }
 ],
 "metadata": {
  "kernelspec": {
   "display_name": "Python 3",
   "language": "python",
   "name": "python3"
  },
  "language_info": {
   "codemirror_mode": {
    "name": "ipython",
    "version": 3
   },
   "file_extension": ".py",
   "mimetype": "text/x-python",
   "name": "python",
   "nbconvert_exporter": "python",
   "pygments_lexer": "ipython3",
   "version": "3.11.1"
  },
  "orig_nbformat": 4
 },
 "nbformat": 4,
 "nbformat_minor": 2
}
