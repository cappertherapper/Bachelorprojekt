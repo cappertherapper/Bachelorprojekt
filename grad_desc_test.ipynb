{
 "cells": [
  {
   "cell_type": "code",
   "execution_count": 34,
   "metadata": {},
   "outputs": [],
   "source": [
    "from src.distance_measures import analyse_video, analyse_image\n",
    "from src.gaussian_noise import generate_noise_array, generate_noise\n",
    "from src.preprocessing import process_image, process_video\n",
    "from src.gradient_descent import find_default_params\n",
    "import numpy as np\n",
    "import matplotlib.pyplot as plt\n",
    "from skimage.color import label2rgb\n",
    "from tqdm import tqdm"
   ]
  },
  {
   "cell_type": "code",
   "execution_count": 35,
   "metadata": {},
   "outputs": [],
   "source": [
    "size = 400\n",
    "skip_size=24\n",
    "L=50\n",
    "im_thresh = 0.3\n",
    "noise_thresh = 0.2\n",
    "smooth = 2.4"
   ]
  },
  {
   "cell_type": "code",
   "execution_count": 40,
   "metadata": {},
   "outputs": [],
   "source": [
    "im = process_video('images/cheese_gel.avi', threshold=im_thresh, size=size, smooth=1, skip_size=skip_size)\n",
    "im = im[:7]"
   ]
  },
  {
   "cell_type": "code",
   "execution_count": 42,
   "metadata": {},
   "outputs": [
    {
     "data": {
      "text/plain": [
       "(7, 500, 500)"
      ]
     },
     "execution_count": 42,
     "metadata": {},
     "output_type": "execute_result"
    }
   ],
   "source": [
    "# im.shape"
   ]
  },
  {
   "cell_type": "code",
   "execution_count": 38,
   "metadata": {},
   "outputs": [],
   "source": [
    "def model(thresh, smooth):\n",
    "    noise = generate_noise_array(size=size, threshold=thresh, smooth=smooth, amount=2)\n",
    "    F, G = analyse_video(noise, L=L)\n",
    "    return np.mean([i / j for i, j in zip(F, G)], axis=0)\n",
    "\n",
    "def loss_fn(y, thresh, smooth, pthresh, psmooth, w):\n",
    "    return np.sum((model(thresh, smooth) - y)**2) + w*((thresh - pthresh)**2 + 0.5*(smooth - psmooth)**2)"
   ]
  },
  {
   "cell_type": "code",
   "execution_count": 39,
   "metadata": {},
   "outputs": [
    {
     "ename": "KeyboardInterrupt",
     "evalue": "",
     "output_type": "error",
     "traceback": [
      "\u001b[1;31m---------------------------------------------------------------------------\u001b[0m",
      "\u001b[1;31mKeyboardInterrupt\u001b[0m                         Traceback (most recent call last)",
      "Cell \u001b[1;32mIn[39], line 8\u001b[0m\n\u001b[0;32m      6\u001b[0m loss_all \u001b[39m=\u001b[39m []\n\u001b[0;32m      7\u001b[0m params \u001b[39m=\u001b[39m []\n\u001b[1;32m----> 8\u001b[0m prior_smooth, prior_thresh \u001b[39m=\u001b[39m find_default_params(im[\u001b[39m0\u001b[39;49m])\n\u001b[0;32m     10\u001b[0m \u001b[39mfor\u001b[39;00m frame \u001b[39min\u001b[39;00m tqdm(im):\n\u001b[0;32m     11\u001b[0m     F, G \u001b[39m=\u001b[39m analyse_image(frame, L\u001b[39m=\u001b[39mL)\n",
      "File \u001b[1;32mc:\\Users\\asken\\Documents\\UCPH\\Bachelor\\QIM\\src\\gradient_descent.py:35\u001b[0m, in \u001b[0;36mfind_default_params\u001b[1;34m(image, alpha_range, tau_range)\u001b[0m\n\u001b[0;32m     29\u001b[0m noise_clusters \u001b[39m=\u001b[39m noise\u001b[39m.\u001b[39mmax()\n\u001b[0;32m     30\u001b[0m \u001b[39mif\u001b[39;00m noise_clusters:\n\u001b[0;32m     31\u001b[0m \u001b[39m# noise_array = generate_noise_array(size=image.shape[0], threshold=t, smooth=a)\u001b[39;00m\n\u001b[0;32m     32\u001b[0m     \u001b[39m# noise = np.mean(noise_array, axis=0)\u001b[39;00m\n\u001b[0;32m     33\u001b[0m \u001b[39m# while not noise.max():\u001b[39;00m\n\u001b[0;32m     34\u001b[0m \u001b[39m#     noise = generate_noise(size=image.shape[0], threshold=t, smooth=a)\u001b[39;00m\n\u001b[1;32m---> 35\u001b[0m     curr \u001b[39m=\u001b[39m mean_size(noise)\n\u001b[0;32m     36\u001b[0m     \u001b[39mif\u001b[39;00m \u001b[39mabs\u001b[39m(average \u001b[39m-\u001b[39m curr) \u001b[39m<\u001b[39m \u001b[39mabs\u001b[39m(average \u001b[39m-\u001b[39m best) \u001b[39mand\u001b[39;00m \u001b[39mabs\u001b[39m(im_clusters \u001b[39m-\u001b[39m noise_clusters) \u001b[39m<\u001b[39m im_clusters\u001b[39m/\u001b[39m\u001b[39m2\u001b[39m:\n\u001b[0;32m     37\u001b[0m         \u001b[39m# print('{:.2f}, {}, {}'.format(curr, a, t))\u001b[39;00m\n\u001b[0;32m     38\u001b[0m         best \u001b[39m=\u001b[39m curr\n",
      "File \u001b[1;32mc:\\Users\\asken\\Documents\\UCPH\\Bachelor\\QIM\\src\\gradient_descent.py:9\u001b[0m, in \u001b[0;36mmean_size\u001b[1;34m(image)\u001b[0m\n\u001b[0;32m      8\u001b[0m \u001b[39mdef\u001b[39;00m \u001b[39mmean_size\u001b[39m(image):\n\u001b[1;32m----> 9\u001b[0m     _, counts \u001b[39m=\u001b[39m np\u001b[39m.\u001b[39;49munique(label(image), return_counts\u001b[39m=\u001b[39;49m\u001b[39mTrue\u001b[39;49;00m)\n\u001b[0;32m     10\u001b[0m     \u001b[39mreturn\u001b[39;00m np\u001b[39m.\u001b[39mmean(counts[\u001b[39m1\u001b[39m:])\n",
      "File \u001b[1;32m<__array_function__ internals>:180\u001b[0m, in \u001b[0;36munique\u001b[1;34m(*args, **kwargs)\u001b[0m\n",
      "File \u001b[1;32mc:\\Users\\asken\\AppData\\Local\\Programs\\Python\\Python311\\Lib\\site-packages\\numpy\\lib\\arraysetops.py:274\u001b[0m, in \u001b[0;36munique\u001b[1;34m(ar, return_index, return_inverse, return_counts, axis, equal_nan)\u001b[0m\n\u001b[0;32m    272\u001b[0m ar \u001b[39m=\u001b[39m np\u001b[39m.\u001b[39masanyarray(ar)\n\u001b[0;32m    273\u001b[0m \u001b[39mif\u001b[39;00m axis \u001b[39mis\u001b[39;00m \u001b[39mNone\u001b[39;00m:\n\u001b[1;32m--> 274\u001b[0m     ret \u001b[39m=\u001b[39m _unique1d(ar, return_index, return_inverse, return_counts, \n\u001b[0;32m    275\u001b[0m                     equal_nan\u001b[39m=\u001b[39;49mequal_nan)\n\u001b[0;32m    276\u001b[0m     \u001b[39mreturn\u001b[39;00m _unpack_tuple(ret)\n\u001b[0;32m    278\u001b[0m \u001b[39m# axis was specified and not None\u001b[39;00m\n",
      "File \u001b[1;32mc:\\Users\\asken\\AppData\\Local\\Programs\\Python\\Python311\\Lib\\site-packages\\numpy\\lib\\arraysetops.py:336\u001b[0m, in \u001b[0;36m_unique1d\u001b[1;34m(ar, return_index, return_inverse, return_counts, equal_nan)\u001b[0m\n\u001b[0;32m    334\u001b[0m     aux \u001b[39m=\u001b[39m ar[perm]\n\u001b[0;32m    335\u001b[0m \u001b[39melse\u001b[39;00m:\n\u001b[1;32m--> 336\u001b[0m     ar\u001b[39m.\u001b[39msort()\n\u001b[0;32m    337\u001b[0m     aux \u001b[39m=\u001b[39m ar\n\u001b[0;32m    338\u001b[0m mask \u001b[39m=\u001b[39m np\u001b[39m.\u001b[39mempty(aux\u001b[39m.\u001b[39mshape, dtype\u001b[39m=\u001b[39mnp\u001b[39m.\u001b[39mbool_)\n",
      "\u001b[1;31mKeyboardInterrupt\u001b[0m: "
     ]
    }
   ],
   "source": [
    "max_iter = 30\n",
    "h = 0.01\n",
    "learning_rate = 0.01\n",
    "w_list= [5, 1, 0.2, 0.04, 0.008, 0]\n",
    "\n",
    "loss_all = []\n",
    "params = []\n",
    "prior_smooth, prior_thresh = find_default_params(im[0])\n",
    "\n",
    "for frame in tqdm(im):\n",
    "    F, G = analyse_image(frame, L=L)\n",
    "    y = F/G\n",
    "    loss_list = []\n",
    "    for w in w_list:\n",
    "        for i in range(max_iter):\n",
    "            loss = loss_fn(y, noise_thresh, smooth, prior_thresh, prior_smooth, 0)\n",
    "            grad1 = (loss_fn(y, noise_thresh+h, smooth, prior_thresh, prior_smooth, 0)-loss)/h\n",
    "            grad2 = (loss_fn(y, noise_thresh, smooth+h, prior_thresh, prior_smooth,  0)-loss)/h\n",
    "            \n",
    "            noise_thresh -= grad1 * learning_rate\n",
    "            smooth -= grad2 * learning_rate\n",
    "            \n",
    "            loss_list.append(loss)\n",
    "        #print(\"Loss = \" + str(loss))\n",
    "        # print(thresh_loss)\n",
    "        # print(disk_loss)\n",
    "        # print(grad1)\n",
    "        # print(grad2)\n",
    "        #print(\"thresh, smooth = \" + str(noise_thresh) + \", \" + str(smooth))\n",
    "        # print(\"done\")\n",
    "    loss_all.append(loss_list)\n",
    "    params.append((smooth,noise_thresh))\n",
    "    prior_thresh = noise_thresh\n",
    "    prior_smooth = smooth\n",
    "    "
   ]
  },
  {
   "cell_type": "code",
   "execution_count": null,
   "metadata": {},
   "outputs": [],
   "source": [
    "print(params)"
   ]
  },
  {
   "cell_type": "code",
   "execution_count": null,
   "metadata": {},
   "outputs": [],
   "source": [
    "plt.tight_layout()\n",
    "plt.title('Training loss')\n",
    "plt.xlabel('Epoch')\n",
    "plt.ylabel('Loss')\n",
    "\n",
    "for i, loss in enumerate(loss_all):\n",
    "    plt.plot(loss, label='Frame #{}'.format(i*skip_size))\n",
    "plt.legend()\n",
    "plt.show()"
   ]
  },
  {
   "cell_type": "code",
   "execution_count": null,
   "metadata": {},
   "outputs": [],
   "source": [
    "a, t = np.array(params).T\n",
    "plt.plot(a, t)\n",
    "# for i, (x,y) in enumerate(params):\n",
    "#     plt.annotate('t={}, a,t=({:.02f},{:.02f})'.format(i,x,y), xy=(x,y))\n",
    "plt.title('Parameters for minimizing loss between gaussian noise and video')\n",
    "plt.xlabel('Smoothing (α)')\n",
    "plt.ylabel('Threshold (τ)')\n",
    "plt.show"
   ]
  },
  {
   "cell_type": "code",
   "execution_count": null,
   "metadata": {},
   "outputs": [],
   "source": [
    "a, t = np.array(params).T\n",
    "i = np.arange(len(a))\n",
    "\n",
    "fig = plt.figure()\n",
    "\n",
    "ax = plt.axes(projection ='3d')\n",
    "ax.plot(a, t, i)\n",
    "# for i, (x,y) in enumerate(params):\n",
    "#     plt.annotate('t={}, a,t=({:.02f},{:.02f})'.format(i,x,y), xy=(x,y))\n",
    "ax.set_title('Parameters for minimizing loss between gaussian noise and video')\n",
    "ax.set_xlabel('Smoothing (α)')\n",
    "ax.set_ylabel('Threshold (τ)')\n",
    "ax.set_zlabel('Time')\n",
    "plt.show"
   ]
  },
  {
   "cell_type": "code",
   "execution_count": null,
   "metadata": {},
   "outputs": [],
   "source": [
    "noise = generate_noise(size, threshold=t[-1], smooth=a[-1])\n",
    "F_noise, G_noise = analyse_image(noise, L=L)\n",
    "F, G = analyse_image(im[-1], L=L)\n",
    "\n",
    "fig, ax = plt.subplots(2,2, figsize=(6,6))\n",
    "plt.tight_layout()\n",
    "\n",
    "ax[0,0].set_title('Image based off optimized params')\n",
    "ax[0,0].imshow(label2rgb(noise))\n",
    "ax[1,0].plot(F_noise/G_noise)\n",
    "\n",
    "ax[0,1].set_title('Last image in video')\n",
    "ax[0,1].imshow(label2rgb(im[-1]))\n",
    "ax[1,1].plot(F/G)\n",
    "plt.show()"
   ]
  },
  {
   "cell_type": "code",
   "execution_count": null,
   "metadata": {},
   "outputs": [],
   "source": [
    "# def stochastic_loss(thresh, disk):\n",
    "#     noise = generate_noise(size=size, threshold=thresh, disk_size=disk, amount=4)\n",
    "#     res_list = stochastic_analyse_video(noise, L=50)\n",
    "#     return np.mean([(i[0] - y[i[1]])**2 for i in res_list])"
   ]
  }
 ],
 "metadata": {
  "kernelspec": {
   "display_name": "Python 3",
   "language": "python",
   "name": "python3"
  },
  "language_info": {
   "codemirror_mode": {
    "name": "ipython",
    "version": 3
   },
   "file_extension": ".py",
   "mimetype": "text/x-python",
   "name": "python",
   "nbconvert_exporter": "python",
   "pygments_lexer": "ipython3",
   "version": "3.11.1"
  },
  "orig_nbformat": 4
 },
 "nbformat": 4,
 "nbformat_minor": 2
}
