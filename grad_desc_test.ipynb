{
 "cells": [
  {
   "cell_type": "code",
   "execution_count": null,
   "metadata": {},
   "outputs": [],
   "source": [
    "from src.distance_measures import analyse_video, analyse_image\n",
    "from src.gaussian_noise import generate_noise\n",
    "from src.preprocessing import process_image, process_video\n",
    "import numpy as np\n",
    "import matplotlib.pyplot as plt\n",
    "from skimage.color import label2rgb"
   ]
  },
  {
   "cell_type": "code",
   "execution_count": null,
   "metadata": {},
   "outputs": [],
   "source": [
    "size = 400\n",
    "thresh = 0.3\n",
    "disk = 3."
   ]
  },
  {
   "cell_type": "code",
   "execution_count": null,
   "metadata": {},
   "outputs": [],
   "source": [
    "im = process_video('images/cheese_gel.avi', threshold=thresh, size=size, skip_size=239)[1]\n",
    "F, G = analyse_image(im, L=50)\n",
    "y = F/G"
   ]
  },
  {
   "cell_type": "code",
   "execution_count": null,
   "metadata": {},
   "outputs": [],
   "source": [
    "def model(thresh, disk):\n",
    "    noise = generate_noise(size=size, threshold=thresh, disk_size=disk, amount=1)\n",
    "    F, G = analyse_video(noise, L=50)\n",
    "    return np.mean(F, axis=0)/np.mean(G, axis=0)\n",
    "\n",
    "def loss_fn(thresh, disk):\n",
    "    return np.sum((model(thresh, disk) - y)**2)"
   ]
  },
  {
   "cell_type": "code",
   "execution_count": null,
   "metadata": {},
   "outputs": [],
   "source": [
    "max_iter = 10\n",
    "step_thresh, step_disk = (0.01, 0.1)\n",
    "learning_rate = 0.1\n",
    "loss_fn_arr=[]\n",
    "thresh_arr=[]\n",
    "disk_arr=[]\n",
    "for i in range(max_iter):\n",
    "    loss = loss_fn(thresh, disk)\n",
    "    grad1 = (loss_fn(thresh+step_thresh, disk)-loss)/step_thresh\n",
    "    grad2 = (loss_fn(thresh, disk+step_disk)-loss)/step_disk\n",
    "    thresh -= grad1 * learning_rate\n",
    "    disk -= grad2 * learning_rate\n",
    "    \n",
    "    loss_fn_arr.append(loss)\n",
    "    thresh_arr.append(thresh)\n",
    "    disk_arr.append(disk)\n"
   ]
  },
  {
   "cell_type": "code",
   "execution_count": null,
   "metadata": {},
   "outputs": [],
   "source": [
    "print(thresh_arr)"
   ]
  },
  {
   "cell_type": "code",
   "execution_count": null,
   "metadata": {},
   "outputs": [],
   "source": [
    "noise = generate_noise(size, threshold=thresh, disk_size=disk, amount=3)\n",
    "F_noise, G_noise = analyse_video(noise, L=50)\n",
    "plt.plot(np.mean(F_noise, axis=0)/np.mean(G_noise, axis=0))\n",
    "plt.show()\n",
    "\n",
    "plt.imshow(label2rgb(noise[0]))\n",
    "plt.show()"
   ]
  },
  {
   "cell_type": "code",
   "execution_count": null,
   "metadata": {},
   "outputs": [],
   "source": [
    "plt.plot(F/G)\n",
    "plt.show()\n",
    "\n",
    "plt.imshow(label2rgb(im))\n",
    "plt.show()"
   ]
  }
 ],
 "metadata": {
  "kernelspec": {
   "display_name": "Python 3",
   "language": "python",
   "name": "python3"
  },
  "language_info": {
   "codemirror_mode": {
    "name": "ipython",
    "version": 3
   },
   "file_extension": ".py",
   "mimetype": "text/x-python",
   "name": "python",
   "nbconvert_exporter": "python",
   "pygments_lexer": "ipython3",
   "version": "3.7.6"
  },
  "orig_nbformat": 4
 },
 "nbformat": 4,
 "nbformat_minor": 2
}
