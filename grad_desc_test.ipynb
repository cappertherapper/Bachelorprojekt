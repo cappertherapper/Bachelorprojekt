{
 "cells": [
  {
   "cell_type": "code",
   "execution_count": 1,
   "metadata": {},
   "outputs": [],
   "source": [
    "from src.distance_measures import analyse_video, analyse_image\n",
    "from src.gaussian_noise import generate_noise,generate_noise_avg\n",
    "from src.preprocessing import process_image, process_video\n",
    "import numpy as np\n",
    "import matplotlib.pyplot as plt\n",
    "from skimage.color import label2rgb"
   ]
  },
  {
   "cell_type": "code",
   "execution_count": 2,
   "metadata": {},
   "outputs": [],
   "source": [
    "size = 400\n",
    "thresh = 0.3\n",
    "disk = 3."
   ]
  },
  {
   "cell_type": "code",
   "execution_count": 15,
   "metadata": {},
   "outputs": [
    {
     "data": {
      "application/vnd.jupyter.widget-view+json": {
       "model_id": "da2b4839d72e4a47a79bf3b21376e684",
       "version_major": 2,
       "version_minor": 0
      },
      "text/plain": [
       "  0%|          | 0/5 [00:00<?, ?it/s]"
      ]
     },
     "metadata": {},
     "output_type": "display_data"
    }
   ],
   "source": [
    "noise_avg= generate_noise_avg(size=size, threshold=thresh, disk_size=disk, amount=50)\n",
    "F_,G_ = analyse_image(noise_avg,L=50)\n",
    "\n",
    "noise= generate_noise(size=size, threshold=thresh, disk_size=disk, amount=5)\n",
    "F__, G__ = analyse_video(noise, L=50)"
   ]
  },
  {
   "cell_type": "code",
   "execution_count": 16,
   "metadata": {},
   "outputs": [],
   "source": [
    "im = process_video('images/cheese_gel.avi', threshold=thresh, size=size, skip_size=239)[1]\n",
    "F, G = analyse_image(im, L=50)\n",
    "y = F/G"
   ]
  },
  {
   "cell_type": "code",
   "execution_count": 17,
   "metadata": {},
   "outputs": [],
   "source": [
    "f = np.mean(F__, axis=0)/np.mean(G__, axis=0)\n",
    "loss_normal= np.sum((f - y)**2)\n",
    "f_ = F_/G_\n",
    "loss_acc = np.sum((f_ - y)**2)\n"
   ]
  },
  {
   "cell_type": "code",
   "execution_count": 18,
   "metadata": {},
   "outputs": [
    {
     "name": "stdout",
     "output_type": "stream",
     "text": [
      "0.06538679788533108\n",
      "nan\n"
     ]
    }
   ],
   "source": [
    "print(loss_normal)\n",
    "print(loss_acc)"
   ]
  },
  {
   "cell_type": "code",
   "execution_count": null,
   "metadata": {},
   "outputs": [],
   "source": [
    "def model(thresh, disk):\n",
    "    noise = generate_noise(size=size, threshold=thresh, disk_size=disk, amount=3)\n",
    "    F, G = analyse_video(noise, L=50)\n",
    "    return np.mean(F, axis=0)/np.mean(G, axis=0)\n",
    "\n",
    "def loss_fn(thresh, disk):\n",
    "    return np.sum((model(thresh, disk) - y)**2)"
   ]
  },
  {
   "cell_type": "code",
   "execution_count": null,
   "metadata": {},
   "outputs": [],
   "source": [
    "max_iter = 1\n",
    "#loss_list = []\n",
    "step_thresh, step_disk = (0.01, 0.1)\n",
    "learning_rate = 0.01\n",
    "\n",
    "for i in range(max_iter):\n",
    "    loss = loss_fn(thresh, disk)\n",
    "    grad1 = (loss_fn(thresh+step_thresh, disk)-loss)/step_thresh\n",
    "    grad2 = (loss_fn(thresh, disk+step_disk)-loss)/step_disk\n",
    "    \n",
    "    thresh -= grad1 * learning_rate\n",
    "    disk -= grad2 * learning_rate"
   ]
  },
  {
   "cell_type": "code",
   "execution_count": null,
   "metadata": {},
   "outputs": [],
   "source": [
    "print(disk)\n",
    "print(thresh)"
   ]
  },
  {
   "cell_type": "code",
   "execution_count": null,
   "metadata": {},
   "outputs": [],
   "source": [
    "noise = generate_noise(size, threshold=thresh, disk_size=disk, amount=3)\n",
    "F_noise, G_noise = analyse_video(noise, L=50)\n",
    "plt.plot(np.mean(F_noise, axis=0)/np.mean(G_noise, axis=0))\n",
    "plt.show()\n",
    "\n",
    "plt.imshow(label2rgb(noise[0]))\n",
    "plt.show()"
   ]
  },
  {
   "cell_type": "code",
   "execution_count": null,
   "metadata": {},
   "outputs": [],
   "source": [
    "plt.plot(F/G)\n",
    "plt.show()\n",
    "\n",
    "plt.imshow(label2rgb(im))\n",
    "plt.show()"
   ]
  }
 ],
 "metadata": {
  "kernelspec": {
   "display_name": "Python 3",
   "language": "python",
   "name": "python3"
  },
  "language_info": {
   "codemirror_mode": {
    "name": "ipython",
    "version": 3
   },
   "file_extension": ".py",
   "mimetype": "text/x-python",
   "name": "python",
   "nbconvert_exporter": "python",
   "pygments_lexer": "ipython3",
   "version": "3.7.6"
  },
  "orig_nbformat": 4
 },
 "nbformat": 4,
 "nbformat_minor": 2
}
