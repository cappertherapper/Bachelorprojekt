{
 "cells": [
  {
   "cell_type": "code",
   "execution_count": 2,
   "metadata": {},
   "outputs": [],
   "source": [
    "from src.distance_measures import analyse_video, analyse_image\n",
    "from src.gaussian_noise import generate_noise_array, generate_noise\n",
    "from src.preprocessing import process_image, process_video\n",
    "from src.gradient_descent import find_default_params\n",
    "import numpy as np\n",
    "import matplotlib.pyplot as plt\n",
    "from skimage.color import label2rgb\n",
    "from tqdm import tqdm\n",
    "from skimage import filters"
   ]
  },
  {
   "attachments": {},
   "cell_type": "markdown",
   "metadata": {},
   "source": [
    "### Hyperparameters"
   ]
  },
  {
   "attachments": {},
   "cell_type": "markdown",
   "metadata": {},
   "source": [
    "### Gradient Descent"
   ]
  },
  {
   "cell_type": "code",
   "execution_count": 4,
   "metadata": {},
   "outputs": [],
   "source": [
    "def generate_poly(siz=800, percentile=80, degree=4):\n",
    "    im = np.random.normal(size=(siz, siz))\n",
    "    conf_interval_lower=[]\n",
    "\n",
    "    for i in np.linspace(1,3,30):\n",
    "        imFilt = filters.gaussian(im, i)\n",
    "        conf_interval_lower.append(np.percentile(imFilt,(percentile)))\n",
    "\n",
    "    x=np.linspace(1,3,30)\n",
    "    y_lower=conf_interval_lower\n",
    "    coefficients_lower = np.polyfit(x, y_lower, degree)\n",
    "    polynomial_lower = np.poly1d(coefficients_lower)\n",
    "\n",
    "    return polynomial_lower"
   ]
  },
  {
   "cell_type": "code",
   "execution_count": 5,
   "metadata": {},
   "outputs": [],
   "source": [
    "size=300\n",
    "L=50\n",
    "\n",
    "def model(thresh, smooth):\n",
    "    noise = generate_noise_array(size=size, threshold=thresh, smooth=smooth, amount=3)\n",
    "    F, G = analyse_video(noise, L=L)\n",
    "    return np.mean([i / j for i, j in zip(F, G)], axis=0)\n",
    "\n",
    "def loss_fn(y, thresh, smooth, pthresh, psmooth, w):\n",
    "    return np.sum((model(thresh, smooth) - y)**2) + w*((thresh - pthresh)**2 + 0.5*(smooth - psmooth)**2)"
   ]
  },
  {
   "cell_type": "code",
   "execution_count": null,
   "metadata": {},
   "outputs": [],
   "source": [
    "\n",
    "\n",
    "# noise = generate_noise_array(size=400, threshold=0.2, smooth=2.4, amount=1)\n",
    "siz=800\n",
    "im = np.random.normal(size=(siz, siz))\n",
    "conf_interval_lower=[]\n",
    "conf_interval_upper=[]\n",
    "\n",
    "for i in np.linspace(1,4,40):\n",
    "    imFilt = filters.gaussian(im, i)\n",
    "    conf_interval_lower.append(np.percentile(imFilt,(80)))\n",
    "    conf_interval_upper.append(np.percentile(imFilt,(90)))\n",
    "\n",
    "# plt.plot(conf_interval[:][0],conf_interval[:][1])\n",
    "x=np.linspace(1,4,40)\n",
    "y_lower=conf_interval_lower\n",
    "y_upper=conf_interval_upper\n",
    "coefficients_lower = np.polyfit(x, y_lower, 4)\n",
    "coefficients_upper = np.polyfit(x, y_upper, 4)\n",
    "print(coefficients_lower)\n",
    "print(coefficients_upper)\n",
    "polynomial_lower = np.poly1d(coefficients_lower)\n",
    "polynomial_upper = np.poly1d(coefficients_upper)\n",
    "\n",
    "\n",
    "# coefficients= [-0.02383184,0.23076839,-0.78856501,1.12045753]\n",
    "\n",
    "# Generate y-values for the regression line\n",
    "y_fit = polynomial_lower(x)\n",
    "print(y_lower[0])\n",
    "# Plot data and regression line\n",
    "plt.plot(x, y_lower, 'o', label='Original data')\n",
    "plt.plot(x, y_fit, 'r', label='Fitted line')\n",
    "plt.legend()\n",
    "plt.show()"
   ]
  },
  {
   "cell_type": "code",
   "execution_count": 26,
   "metadata": {},
   "outputs": [
    {
     "name": "stderr",
     "output_type": "stream",
     "text": [
      "  5%|▌         | 1/20 [02:38<50:04, 158.13s/it]/Users/Dorph/Documents/CS/3Y/Bachelor/QIM/src/distance_measures.py:37: RuntimeWarning: invalid value encountered in true_divide\n",
      "  f = f / curr_image.max()\n",
      "/Users/Dorph/Documents/CS/3Y/Bachelor/QIM/src/distance_measures.py:38: RuntimeWarning: invalid value encountered in true_divide\n",
      "  g = g / curr_image.max()\n",
      "100%|██████████| 20/20 [1:04:56<00:00, 194.82s/it]\n"
     ]
    }
   ],
   "source": [
    "skip_size=24\n",
    "im_thresh = 0.3\n",
    "\n",
    "# epochs = 10\n",
    "h = 0.01\n",
    "learning_rate = 0.01\n",
    "w_list= [5, 3, 0.7, 0]\n",
    "epochs = [20,10,10,10]\n",
    "path = 'images/cheese_gel.avi'\n",
    "\n",
    "im = process_video(path, threshold=im_thresh, size=size, smooth=1, skip_size=skip_size)[0]\n",
    "# im = np.array([im[0],im[3]])\n",
    "\n",
    "GNCA_loss_all = []\n",
    "GNCA_params = []\n",
    "\n",
    "nonGNCA_loss_all = []\n",
    "nonGNCA_params = []\n",
    "\n",
    "start_values = []\n",
    "\n",
    "frame_count = 0\n",
    "for frame in [im]:\n",
    "    prior_smooth, prior_thresh = find_default_params(frame)\n",
    "    # for j in tqdm([(75,85),(85,90),(90,98)]):\n",
    "    for k in tqdm(range(20)):\n",
    "            rand_smooth = np.random.uniform(0.5,3.5)\n",
    "            polynomial_lower = generate_poly(percentile=80)\n",
    "            polynomial_upper = generate_poly(percentile=95)\n",
    "            \n",
    "            rand_noise_thresh = np.random.uniform(polynomial_lower(rand_smooth), polynomial_upper(rand_smooth))\n",
    "            \n",
    "            start_values.append((rand_smooth,rand_noise_thresh))\n",
    "            # print(start_values)\n",
    "            noise_thresh =rand_noise_thresh\n",
    "            smooth =rand_smooth\n",
    "            F, G = analyse_image(frame, L=L)\n",
    "            y = F/G\n",
    "            loss_list = []\n",
    "            for g,w in enumerate(w_list):\n",
    "                for i in range(epochs[g]):\n",
    "                    loss = loss_fn(y, noise_thresh, smooth, prior_thresh, prior_smooth, w)\n",
    "                    if (np.isnan(loss)):\n",
    "                        break\n",
    "                    grad1 = (loss_fn(y, noise_thresh+h, smooth, prior_thresh, prior_smooth, w)-loss)/h\n",
    "                    grad2 = (loss_fn(y, noise_thresh, smooth+h, prior_thresh, prior_smooth,  w)-loss)/h\n",
    "                    # print(\"thresh before: \",noise_thresh)\n",
    "                    noise_thresh -= grad1 * learning_rate\n",
    "                    # print(\"thresh: \",noise_thresh,\" grad1: \",grad1)\n",
    "                    smooth -= grad2 * learning_rate\n",
    "                    # print(\"smooth: \", smooth,\"grad2: \",grad2)\n",
    "                    # print(\"loss: \",loss)\n",
    "                    loss_list.append(loss)\n",
    "                if (np.isnan(loss)):\n",
    "                    break\n",
    "                # print(loss_list)\n",
    "            if (np.isnan(loss)):\n",
    "                continue  \n",
    "            \n",
    "            loss_list_2 = []\n",
    "            noise_thresh_ =rand_noise_thresh\n",
    "            smooth_ =rand_smooth\n",
    "            for i in range(sum(epochs)):\n",
    "                loss = loss_fn(y, noise_thresh_, smooth_, prior_thresh, prior_smooth, 0)\n",
    "                if (np.isnan(loss)):\n",
    "                    break\n",
    "                grad1 = (loss_fn(y, noise_thresh_+h, smooth_, prior_thresh, prior_smooth, 0)-loss)/h\n",
    "                grad2 = (loss_fn(y, noise_thresh_, smooth_+h, prior_thresh, prior_smooth,  0)-loss)/h\n",
    "                \n",
    "                noise_thresh_ -= grad1 * learning_rate\n",
    "                smooth_ -= grad2 * learning_rate\n",
    "                \n",
    "                loss_list_2.append(loss)\n",
    "            if(np.isnan(loss)):\n",
    "                continue\n",
    "            if (np.isnan(loss_list).any() or np.isnan(loss_list_2).any()):\n",
    "                continue\n",
    "            GNCA_loss_all.append( loss_list )\n",
    "            GNCA_params.append( (smooth,noise_thresh) )\n",
    "            nonGNCA_loss_all.append( loss_list_2 )\n",
    "            nonGNCA_params.append( (smooth_,noise_thresh_) )\n",
    "    frame_count+=1\n",
    "\n",
    "# np.savetxt(\"twenty_parameters_nonGNCA.csv\", params, delimiter=\",\")\n",
    "# np.savetxt(\"twenty_loss_nonGNCA.csv\", loss_all, delimiter=\",\")"
   ]
  },
  {
   "cell_type": "code",
   "execution_count": null,
   "metadata": {},
   "outputs": [],
   "source": [
    "from skimage import filters\n",
    "\n",
    "# noise = generate_noise_array(size=400, threshold=0.2, smooth=2.4, amount=1)\n",
    "siz=800\n",
    "im = np.random.normal(size=(siz, siz))\n",
    "conf_interval_lower=[]\n",
    "conf_interval_upper=[]\n",
    "\n",
    "imFilt = filters.gaussian(im, 2.4)\n",
    "low=np.percentile(imFilt,(95))\n",
    "hi=np.percentile(imFilt,(70))\n",
    "print(low)\n"
   ]
  },
  {
   "cell_type": "code",
   "execution_count": 29,
   "metadata": {},
   "outputs": [
    {
     "data": {
      "text/plain": [
       "<matplotlib.legend.Legend at 0x7f8c72901350>"
      ]
     },
     "execution_count": 29,
     "metadata": {},
     "output_type": "execute_result"
    },
    {
     "data": {
      "image/png": "[encoded data removed]",
      "text/plain": [
       "<Figure size 1080x360 with 2 Axes>"
      ]
     },
     "metadata": {
      "needs_background": "light"
     },
     "output_type": "display_data"
    }
   ],
   "source": [
    "# GNCA_loss_all\n",
    "# nonGNCA_loss_all\n",
    "\n",
    "# np.savetxt(\"loss_gnca_frame0_3distributions.csv\",GNCA_loss_all,delimiter=\",\")\n",
    "# np.savetxt(\"loss_non_frame0_3distributions.csv\",nonGNCA_loss_all,delimiter=\",\")\n",
    "# np.savetxt(\"start_values_40epochs.csv\",start_values,delimiter=\",\")\n",
    "\n",
    "# GNCA_elements = [t[-1] for t in GNCA_loss_all]\n",
    "# non_elements = [t[-1] for t in nonGNCA_loss_all]\n",
    "# print(len(GNCA_elements))\n",
    "\n",
    "# mean_gnca = np.mean(GNCA_elements,axis=0)\n",
    "# mean_non = np.mean(non_elements,axis=0)\n",
    "max_epochs = 50\n",
    "\n",
    "mean_gnca = np.mean(GNCA_loss_all,axis=0)\n",
    "mean_non = np.mean(nonGNCA_loss_all,axis=0)\n",
    "\n",
    "fig, ax = plt.subplots(1,2, figsize=(15,5))\n",
    "\n",
    "ax[0].plot(np.linspace(1,max_epochs,max_epochs),np.mean(GNCA_loss_all,axis=0),label='GD with GNCA')\n",
    "ax[0].plot(np.linspace(1,max_epochs,max_epochs), np.mean(nonGNCA_loss_all,axis=0),color='red',label='GD w/o GNCA')\n",
    "ax[0].set_ylim(0,0.7)\n",
    "ax[0].set_xlim(1,max_epochs)\n",
    "ax[0].set_title('Frame #0 - mean of 20 iterations - all 40 epochs')\n",
    "ax[0].set_xlabel('Epochs')\n",
    "ax[0].set_ylabel('Loss')\n",
    "\n",
    "ax[1].plot(np.linspace(1,max_epochs,max_epochs),mean_gnca,label='GD with GNCA')\n",
    "ax[1].plot(np.linspace(1,max_epochs,max_epochs),mean_non,color='red',label='GD w/o GNCA')\n",
    "ax[1].set_ylim(0,0.005)\n",
    "ax[1].set_xlim((max_epochs-15),max_epochs)\n",
    "ax[1].set_title('Frame #0 - mean of 20 iterations - last epochs')\n",
    "ax[1].set_xlabel('Epochs')\n",
    "ax[1].set_ylabel('Loss')\n",
    "\n",
    "plt.legend()\n",
    "# plt.plot(start_values[:][0],start_values[:][1])\n",
    "# print((nonGNCA_loss_all[1]))\n"
   ]
  },
  {
   "cell_type": "code",
   "execution_count": 74,
   "metadata": {},
   "outputs": [],
   "source": [
    "# dd=[t[-1] for t in nonGNCA_loss_all if t[0][1] == 75]\n",
    "# # print(np.array(dd).shape)\n",
    "# # for i in range(29):\n",
    "# # print(np.array(nonGNCA_loss_all))\n",
    "# comp_arrays = []\n",
    "# for i in range(29):\n",
    "#     if (len(nonGNCA_loss_all[i][-1]) != len(GNCA_loss_all[i][-1])):\n",
    "#         comp_arrays.append()\n",
    "#         # print(\"oh no\")\n",
    "# # print(np.array(nonGNCA_loss_all[7][-1]))\n",
    "# # print(np.array(GNCA_loss_all[7][-1]))\n",
    "#     # print()\n"
   ]
  },
  {
   "cell_type": "code",
   "execution_count": 85,
   "metadata": {},
   "outputs": [],
   "source": [
    "# np.savetxt(\"loss_frame144_non_3distributions_20epochs.csv\",[t[-1] for t in nonGNCA_loss_all],delimiter=\",\")\n",
    "# last_elements = [t[-1] for t in GNCA_loss_all if t[0][1] == 75]\n",
    "# print(np.array(last_elements).shape)"
   ]
  },
  {
   "cell_type": "code",
   "execution_count": 83,
   "metadata": {},
   "outputs": [
    {
     "data": {
      "image/png": "[encoded data removed]",
      "text/plain": [
       "<Figure size 1080x360 with 3 Axes>"
      ]
     },
     "metadata": {
      "needs_background": "light"
     },
     "output_type": "display_data"
    }
   ],
   "source": [
    "titles=['frame #0, distr: 75-85','frame #0, distr: 85-95','frame #0, distr: 90-98']\n",
    "\n",
    "fig, ax = plt.subplots(1,3, figsize=(15,5))\n",
    "dist=[75,85,90]\n",
    "# y = np.loadtxt(\"/Users/Dorph/Documents/CS/3Y/Bachelor/QIM/twenty_loss_nonGNCA.csv\",delimiter=\",\")[:25]\n",
    "for k,i in enumerate([0,1,2]):\n",
    "    GNCA_elements = [t[-1] for t in GNCA_loss_all if t[0][1] == dist[k]]\n",
    "    non_elements = [t[-1] for t in nonGNCA_loss_all if t[0][1] == dist[k]]\n",
    "    \n",
    "    series1 = np.std(GNCA_elements,axis=0)\n",
    "    series2 = np.std(non_elements,axis=0)\n",
    "\n",
    "    # series2 = y[i]\n",
    "\n",
    "    # Generate the x-axis values from 1 to 20\n",
    "    x = range(1, 21)\n",
    "\n",
    "    # Generate the first series of values\n",
    "    # series1 = [0.01 * i for i in x]  # Values range from 0 to 0.2\n",
    "\n",
    "    # Generate the second series of values\n",
    "    # series2 = [0.015 * i for i in x]  # Values range from 0 to 0.3\n",
    "\n",
    "    # Plot the two series\n",
    "    ax[k].plot(x, series1, label='GD w. GNCA',color='red')\n",
    "    ax[k].plot(x, series2, label='GD w/o GNCA',color='blue')\n",
    "\n",
    "    # Set the x-axis and y-axis limits\n",
    "    ylim = max(series1.min(),series2.min()) *5\n",
    "    ax[k].set_xlim(15, 20)\n",
    "    # plt.ylim(0, ylim)\n",
    "    ax[k].set_ylim(0, ylim)\n",
    "\n",
    "    # Set the labels and title\n",
    "    plt.xlabel('X-axis')\n",
    "    plt.ylabel('Values')\n",
    "    ax[k].set_title(titles[k])\n",
    "\n",
    "\n",
    "plt.legend()\n",
    "plt.tight_layout()\n",
    "plt.show()"
   ]
  },
  {
   "cell_type": "code",
   "execution_count": null,
   "metadata": {},
   "outputs": [],
   "source": [
    "# np.savetxt(\"twenty_parameters_GNCA.csv\", params, delimiter=\",\")\n",
    "# np.savetxt(\"twenty_loss_GNCA.csv\", loss_all, delimiter=\",\")"
   ]
  },
  {
   "attachments": {},
   "cell_type": "markdown",
   "metadata": {},
   "source": [
    "### Saving values"
   ]
  },
  {
   "cell_type": "code",
   "execution_count": null,
   "metadata": {},
   "outputs": [],
   "source": [
    "# Parameters\n",
    "# np.savetxt(\"parameters_GNCA.csv\", params, delimiter=\",\")\n",
    "\n",
    "# # Loss\n",
    "# np.savetxt(\"loss_GNCA.csv\", loss_all, delimiter=\",\")"
   ]
  },
  {
   "attachments": {},
   "cell_type": "markdown",
   "metadata": {},
   "source": [
    "### Visualizations"
   ]
  },
  {
   "cell_type": "code",
   "execution_count": null,
   "metadata": {},
   "outputs": [],
   "source": [
    "# params = [(2.5045891021805815, 0.2550168108463213), (2.5055808720933874, 0.23142073699094692), (2.515201214384155, 0.2040541179838772), (2.521388742368899, 0.18055266383708088), (2.5650979286652196, 0.1686974300694411), (2.5800816637299873, 0.16631233430992237), (2.62037301239601, 0.16369889996315873)]"
   ]
  },
  {
   "cell_type": "code",
   "execution_count": null,
   "metadata": {},
   "outputs": [],
   "source": [
    "plt.tight_layout()\n",
    "plt.title('Training loss')\n",
    "plt.xlabel('Epoch')\n",
    "plt.ylabel('Loss')\n",
    "\n",
    "for i, loss in enumerate(loss_all):\n",
    "    plt.plot(loss, label='Frame #{}'.format(i*skip_size))\n",
    "plt.legend()\n",
    "plt.show()"
   ]
  },
  {
   "cell_type": "code",
   "execution_count": null,
   "metadata": {},
   "outputs": [],
   "source": [
    "a, t = np.array(params).T\n",
    "plt.plot(a, t)\n",
    "for i, (x,y) in enumerate(params):\n",
    "    plt.annotate('t={}'.format(i), xy=(x,y))\n",
    "    # plt.annotate('t={}, a,t=({:.02f},{:.02f})'.format(i,x,y), xy=(x,y))\n",
    "plt.title('Parameters for minimizing loss between gaussian noise and video')\n",
    "plt.xlabel('Smoothing (α)')\n",
    "plt.ylabel('Threshold (τ)')\n",
    "plt.show"
   ]
  },
  {
   "cell_type": "code",
   "execution_count": null,
   "metadata": {},
   "outputs": [],
   "source": [
    "a, t = np.array(params).T\n",
    "i = np.arange(len(a))\n",
    "\n",
    "fig = plt.figure()\n",
    "\n",
    "ax = plt.axes(projection ='3d')\n",
    "ax.plot(a, t, i)\n",
    "# for i, (x,y) in enumerate(params):\n",
    "#     plt.annotate('t={}, a,t=({:.02f},{:.02f})'.format(i,x,y), xy=(x,y))\n",
    "ax.set_title('Parameters for minimizing loss between gaussian noise and video')\n",
    "ax.set_xlabel('Smoothing (α)')\n",
    "ax.set_ylabel('Threshold (τ)')\n",
    "ax.set_zlabel('Time')\n",
    "plt.show"
   ]
  },
  {
   "cell_type": "code",
   "execution_count": null,
   "metadata": {},
   "outputs": [],
   "source": [
    "# noise = generate_noise(size, threshold=t[indexC], smooth=a[-1])\n",
    "# F_noise, G_noise = analyse_image(noise, L=L)\n",
    "# F, G = analyse_image(im[-1], L=L)\n",
    "\n",
    "# fig, ax = plt.subplots(2,2, figsize=(6,6))\n",
    "# plt.tight_layout()\n",
    "\n",
    "# ax[0,0].set_title('Image based off optimized params')\n",
    "# ax[0,0].imshow(label2rgb(noise))\n",
    "# ax[1,0].plot(F_noise/G_noise)\n",
    "\n",
    "# ax[0,1].set_title('Last image in video')\n",
    "# ax[0,1].imshow(label2rgb(im[-1]))\n",
    "# ax[1,1].plot(F/G)\n",
    "# plt.show()"
   ]
  },
  {
   "cell_type": "code",
   "execution_count": null,
   "metadata": {},
   "outputs": [],
   "source": [
    "indexA= 0\n",
    "indexB= 1\n",
    "indexC= -1\n",
    "\n",
    "a, t = np.loadtxt(\"/Users/Dorph/Documents/CS/3Y/Bachelor/QIM/twenty_parameters_GNCA.csv\",delimiter=\",\").T\n",
    "noise1 = generate_noise_array(size, threshold=t[indexA], smooth=a[indexA], amount=30)\n",
    "noise2 = generate_noise_array(size, threshold=t[indexB], smooth=a[indexB], amount=30)\n",
    "noise3 = generate_noise_array(size, threshold=t[indexC], smooth=a[indexC], amount=30)\n",
    "\n",
    "params_nonGNCA = np.loadtxt(\"/Users/Dorph/Documents/CS/3Y/Bachelor/QIM/twenty_parameters_nonGNCA.csv\",delimiter=\",\")[:25]\n",
    "a_, t_ = np.array(params_nonGNCA).T\n",
    "\n",
    "noise1_ = generate_noise_array(size, threshold=t_[indexA], smooth=a_[indexA], amount=30)\n",
    "noise2_ = generate_noise_array(size, threshold=t_[indexB], smooth=a_[indexB], amount=30)\n",
    "noise3_ = generate_noise_array(size, threshold=t_[indexC], smooth=a_[indexC], amount=30)\n",
    "\n",
    "F1, G1 = analyse_image(im[indexA], L=L)\n",
    "F2, G2 = analyse_image(im[indexB], L=L)\n",
    "F3, G3 = analyse_image(im[indexC], L=L)\n",
    "\n",
    "Fn1, Gn1 = analyse_video(noise1, L=L)\n",
    "Fn2, Gn2 = analyse_video(noise2, L=L)\n",
    "Fn3, Gn3 = analyse_video(noise3, L=L)\n",
    "\n",
    "Fn1, Gn1 = np.mean(Fn1, axis=0), np.mean(Gn1, axis=0)\n",
    "Fn2, Gn2 = np.mean(Fn2, axis=0), np.mean(Gn2, axis=0)\n",
    "Fn3, Gn3 = np.mean(Fn3, axis=0), np.mean(Gn3, axis=0)\n",
    "\n",
    "Fn1_, Gn1_ = analyse_video(noise1_, L=L)\n",
    "Fn2_, Gn2_ = analyse_video(noise2_, L=L)\n",
    "Fn3_, Gn3_ = analyse_video(noise3_, L=L)\n",
    "\n",
    "\n",
    "Fn1_, Gn1_ = np.mean(Fn1_, axis=0), np.mean(Gn1_, axis=0)\n",
    "Fn2_, Gn2_ = np.mean(Fn2_, axis=0), np.mean(Gn2_, axis=0)\n",
    "Fn3_, Gn3_ = np.mean(Fn3_, axis=0), np.mean(Gn3_, axis=0)"
   ]
  },
  {
   "cell_type": "code",
   "execution_count": null,
   "metadata": {},
   "outputs": [],
   "source": []
  },
  {
   "cell_type": "code",
   "execution_count": null,
   "metadata": {},
   "outputs": [],
   "source": [
    "fig, ax = plt.subplots(1,3, figsize=(15,5))\n",
    "\n",
    "ax[0].set_title('F/G of frame #0')\n",
    "ax[0].plot(F1/G1, label='data')\n",
    "ax[0].plot(Fn1/Gn1, label='gaussian', color='red')\n",
    "ax[0].plot(Fn1_/Gn1_, label='gaussian', color='green')\n",
    "\n",
    "ax[1].set_title('F/G of frame #72')\n",
    "ax[1].plot(F2/G2, label='data')\n",
    "ax[1].plot(Fn2/Gn2, label='gaussian', color='red')\n",
    "ax[1].plot(Fn2_/Gn2_, label='gaussian', color='green')\n",
    "\n",
    "ax[2].set_title('F/G of frame #144')\n",
    "ax[2].plot(F3/G3, label='measurements')\n",
    "ax[2].plot(Fn3/Gn3, label='synthesized_GNCA', color='red')\n",
    "ax[2].plot(Fn3_/Gn3_, label='synthesized_nonGNCA', color='green')\n",
    "\n",
    "\n",
    "plt.legend()\n",
    "plt.tight_layout()\n",
    "plt.show()"
   ]
  },
  {
   "cell_type": "code",
   "execution_count": null,
   "metadata": {},
   "outputs": [],
   "source": [
    "fig, ax = plt.subplots(2,3, figsize=(15,10))\n",
    "\n",
    "ax[0,0].set_title('video frame #0')\n",
    "ax[0,0].imshow(label2rgb(im[0]))\n",
    "ax[0,1].set_title('video frame #72')\n",
    "ax[0,1].imshow(label2rgb(im[1]))\n",
    "ax[0,2].set_title('video frame #144')\n",
    "ax[0,2].imshow(label2rgb(im[-1]))\n",
    "\n",
    "# ax[1,0].set_title('generated from frame #0')\n",
    "ax[1,0].imshow(label2rgb(noise1[0]))\n",
    "# ax[1,1].set_title('generated from frame #72')\n",
    "ax[1,1].imshow(label2rgb(noise2[0]))\n",
    "# ax[1,2].set_title('generated from frame #144')\n",
    "ax[1,2].imshow(label2rgb(noise3[0]))\n",
    "\n",
    "plt.tight_layout()\n",
    "# plt.axis('off')\n",
    "plt.show()"
   ]
  },
  {
   "cell_type": "code",
   "execution_count": null,
   "metadata": {},
   "outputs": [],
   "source": [
    "from skimage.measure import regionprops\n",
    "means_real = np.zeros(3)\n",
    "means_gaus = np.zeros(3)\n",
    "amounts_real = np.zeros(3)\n",
    "amounts_gaus = np.zeros(3)\n",
    "\n",
    "reals = [im[0], im[3], im[-1]]\n",
    "gauss = [noise1[0], noise2[0], noise3[0]]\n",
    "\n",
    "for i in range(3):\n",
    "    real_regions = regionprops(reals[i])\n",
    "    for real_region in real_regions:\n",
    "        means_real[i] = means_real[i] + real_region.num_pixels\n",
    "    means_real[i] = means_real[i] / len(real_regions)\n",
    "    amounts_real[i] = len(real_regions)\n",
    "\n",
    "\n",
    "    gaus_regions = regionprops(gauss[i])\n",
    "    for gaus_region in gaus_regions:\n",
    "        means_gaus[i] = means_gaus[i] + gaus_region.num_pixels\n",
    "    means_gaus[i] = means_gaus[i] / len(gaus_regions)\n",
    "    amounts_gaus[i] = len(gaus_regions)"
   ]
  },
  {
   "cell_type": "code",
   "execution_count": null,
   "metadata": {},
   "outputs": [],
   "source": [
    "X = ['frame #0','frame #72','frame #144']\n",
    "  \n",
    "X_axis = np.arange(len(X))\n",
    "\n",
    "plt.bar(X_axis - 0.2, means_real, 0.4, label = 'measured', color='steelblue')\n",
    "plt.bar(X_axis + 0.2, means_gaus, 0.4, label = 'synthetic', color='firebrick')\n",
    "\n",
    "plt.tight_layout()\n",
    "plt.xticks(X_axis, X)\n",
    "# plt.xlabel(\"Groups\")\n",
    "plt.ylabel(\"Mean protein size of frame\")\n",
    "plt.title(\"Distribution of mean protein sizes\")\n",
    "plt.legend()\n",
    "plt.show()"
   ]
  },
  {
   "cell_type": "code",
   "execution_count": null,
   "metadata": {},
   "outputs": [],
   "source": [
    "plt.bar(X_axis - 0.2, amounts_real, 0.4, label = 'measured', color='steelblue')\n",
    "plt.bar(X_axis + 0.2, amounts_gaus, 0.4, label = 'synthetic', color='firebrick')\n",
    "\n",
    "plt.tight_layout()\n",
    "plt.xticks(X_axis, X)\n",
    "# plt.xlabel(\"Groups\")\n",
    "plt.ylabel(\"Amount of proteins of frame\")\n",
    "plt.title(\"Amounts of proteins larger than threshold\")\n",
    "plt.legend()\n",
    "plt.show()"
   ]
  },
  {
   "cell_type": "code",
   "execution_count": null,
   "metadata": {},
   "outputs": [],
   "source": [
    "# def stochastic_loss(thresh, disk):\n",
    "#     noise = generate_noise(size=size, threshold=thresh, disk_size=disk, amount=4)\n",
    "#     res_list = stochastic_analyse_video(noise, L=50)\n",
    "#     return np.mean([(i[0] - y[i[1]])**2 for i in res_list])"
   ]
  }
 ],
 "metadata": {
  "kernelspec": {
   "display_name": "Python 3",
   "language": "python",
   "name": "python3"
  },
  "language_info": {
   "codemirror_mode": {
    "name": "ipython",
    "version": 3
   },
   "file_extension": ".py",
   "mimetype": "text/x-python",
   "name": "python",
   "nbconvert_exporter": "python",
   "pygments_lexer": "ipython3",
   "version": "3.7.6"
  },
  "orig_nbformat": 4
 },
 "nbformat": 4,
 "nbformat_minor": 2
}
