{
 "cells": [
  {
   "cell_type": "code",
   "execution_count": 190,
   "metadata": {},
   "outputs": [],
   "source": [
    "import numpy as np\n",
    "from PIL import Image\n",
    "from skimage.morphology import label"
   ]
  },
  {
   "cell_type": "code",
   "execution_count": 191,
   "metadata": {},
   "outputs": [],
   "source": [
    "path = '../shape-relation-measures/1carr-96etoh-alexa-sted.tif'\n",
    "im = Image.open(path)\n",
    "# im.show()"
   ]
  },
  {
   "cell_type": "code",
   "execution_count": 192,
   "metadata": {},
   "outputs": [],
   "source": [
    "tif_array = np.array(im)"
   ]
  },
  {
   "cell_type": "code",
   "execution_count": 193,
   "metadata": {},
   "outputs": [],
   "source": [
    "# Removing the alpha channel\n",
    "tif_array = tif_array[:, :,:-1]\n",
    "\n",
    "# Taking average of rgb channels\n",
    "tif_array = np.average(tif_array, axis=2)"
   ]
  },
  {
   "cell_type": "code",
   "execution_count": 194,
   "metadata": {},
   "outputs": [],
   "source": [
    "# Thresholding\n",
    "threshold_value = 130\n",
    "f = np.vectorize(lambda x: x if x > threshold_value else 0)\n",
    "tif_array = f(tif_array)"
   ]
  },
  {
   "cell_type": "code",
   "execution_count": 195,
   "metadata": {},
   "outputs": [],
   "source": [
    "tif_label = label(tif_array, connectivity=2)"
   ]
  },
  {
   "cell_type": "code",
   "execution_count": 196,
   "metadata": {},
   "outputs": [],
   "source": [
    "# Visualization\n",
    "# f = np.vectorize(lambda x: 255 if x > 0 else 0)\n",
    "\n",
    "# img = Image.fromarray(f(x´tif_label), mode='L')\n",
    "# img.show()"
   ]
  },
  {
   "cell_type": "code",
   "execution_count": null,
   "metadata": {},
   "outputs": [],
   "source": []
  }
 ],
 "metadata": {
  "kernelspec": {
   "display_name": "base",
   "language": "python",
   "name": "python3"
  },
  "language_info": {
   "codemirror_mode": {
    "name": "ipython",
    "version": 3
   },
   "file_extension": ".py",
   "mimetype": "text/x-python",
   "name": "python",
   "nbconvert_exporter": "python",
   "pygments_lexer": "ipython3",
   "version": "3.9.12"
  },
  "orig_nbformat": 4,
  "vscode": {
   "interpreter": {
    "hash": "abdc47a69766c8a8b74eb9fe3d166417e75b934eec6c674bf649706cba53ad95"
   }
  }
 },
 "nbformat": 4,
 "nbformat_minor": 2
}
