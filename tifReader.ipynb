{
 "cells": [
  {
   "cell_type": "code",
   "execution_count": 14,
   "metadata": {},
   "outputs": [],
   "source": [
    "import numpy as np\n",
    "from PIL import Image\n",
    "from skimage.morphology import label"
   ]
  },
  {
   "cell_type": "code",
   "execution_count": 15,
   "metadata": {},
   "outputs": [],
   "source": [
    "path = '1carr-96etoh-alexa-sted-decon.tif'\n",
    "im = Image.open(path)\n",
    "# im.show()"
   ]
  },
  {
   "cell_type": "code",
   "execution_count": 16,
   "metadata": {},
   "outputs": [],
   "source": [
    "tif_array = np.array(im)"
   ]
  },
  {
   "cell_type": "code",
   "execution_count": 17,
   "metadata": {},
   "outputs": [],
   "source": [
    "# Removing the alpha channel\n",
    "tif_array = tif_array[:, :,:-1]\n",
    "\n",
    "# Taking average of rgb channels\n",
    "tif_array = np.average(tif_array, axis=2)"
   ]
  },
  {
   "cell_type": "code",
   "execution_count": 18,
   "metadata": {},
   "outputs": [],
   "source": [
    "# Thresholding\n",
    "threshold_value = 100\n",
    "f = np.vectorize(lambda x: x if x > threshold_value else 0)\n",
    "tif_array = f(tif_array)"
   ]
  },
  {
   "cell_type": "code",
   "execution_count": 19,
   "metadata": {},
   "outputs": [],
   "source": [
    "tif_label = label(tif_array, connectivity=2)"
   ]
  },
  {
   "cell_type": "code",
   "execution_count": 20,
   "metadata": {},
   "outputs": [],
   "source": [
    "# Visualization\n",
    "f = np.vectorize(lambda x: 255 if x > 0 else 0)\n",
    "\n",
    "img = Image.fromarray(f(tif_label), mode='L')\n",
    "img.show()"
   ]
  },
  {
   "cell_type": "code",
   "execution_count": null,
   "metadata": {},
   "outputs": [],
   "source": []
  }
 ],
 "metadata": {
  "kernelspec": {
   "display_name": "base",
   "language": "python",
   "name": "python3"
  },
  "language_info": {
   "codemirror_mode": {
    "name": "ipython",
    "version": 3
   },
   "file_extension": ".py",
   "mimetype": "text/x-python",
   "name": "python",
   "nbconvert_exporter": "python",
   "pygments_lexer": "ipython3",
   "version": "3.9.7"
  },
  "orig_nbformat": 4,
  "vscode": {
   "interpreter": {
    "hash": "33dc13e3ec5f8a0200e9ba78cf33ba7ebcfeddff55b0578a8716a234fae00358"
   }
  }
 },
 "nbformat": 4,
 "nbformat_minor": 2
}
